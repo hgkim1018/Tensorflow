{
 "cells": [
  {
   "cell_type": "code",
   "execution_count": 1,
   "id": "716acc67",
   "metadata": {},
   "outputs": [],
   "source": [
    "import sys\n",
    "import numpy as np\n",
    "import tensorflow as tf\n",
    "from tensorflow.keras.layers import Input, Dense, Reshape, Flatten, Dropout, BatchNormalization, LeakyReLU\n",
    "from tensorflow.keras.models import Sequential, Model\n",
    "from tensorflow.keras.optimizers import Adam\n",
    "from tensorflow.keras.optimizers.schedules import ExponentialDecay\n",
    "from tensorflow.keras.utils import plot_model"
   ]
  },
  {
   "cell_type": "code",
   "execution_count": 2,
   "id": "df069d87",
   "metadata": {},
   "outputs": [],
   "source": [
    "class GAN:\n",
    "    def __init__(self, generator, discriminator, initial_lr = 0.0002):\n",
    "        self.OPTIMIZER = Adam(learning_rate = ExponentialDecay(\n",
    "                        initial_lr,\n",
    "                        decay_steps = 100000,\n",
    "                        decay_rate = 8e-9,\n",
    "                        staircase = True))\n",
    "        \n",
    "        self.Generator = generator\n",
    "        \n",
    "        self.Discriminator = discriminator\n",
    "        self.Discriminator.trainable = False\n",
    "        \n",
    "        self.gan_model = self.model()\n",
    "        self.gan_model.compile(loss = 'binary_crossentropy', optimizer = self.OPTIMIZER)\n",
    "    \n",
    "    def model(self):\n",
    "        model = Sequential()\n",
    "        model.add(self.Generator)\n",
    "        model.add(self.Discriminator)\n",
    "        return model\n",
    "    \n",
    "    def summary(self):\n",
    "        return self.gan_model.summary()\n",
    "\n",
    "    def save_model(self):\n",
    "        plot_model(self.gan_model, \n",
    "                   to_file = '/Users/gimhyeongeun/Desktop/세미나/Machine Learning/GAN/GAN_Model.png')"
   ]
  }
 ],
 "metadata": {
  "kernelspec": {
   "display_name": "Python 3",
   "language": "python",
   "name": "python3"
  },
  "language_info": {
   "codemirror_mode": {
    "name": "ipython",
    "version": 3
   },
   "file_extension": ".py",
   "mimetype": "text/x-python",
   "name": "python",
   "nbconvert_exporter": "python",
   "pygments_lexer": "ipython3",
   "version": "3.8.8"
  }
 },
 "nbformat": 4,
 "nbformat_minor": 5
}
