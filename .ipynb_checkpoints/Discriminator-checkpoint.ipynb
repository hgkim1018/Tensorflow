{
 "cells": [
  {
   "cell_type": "code",
   "execution_count": 18,
   "id": "a3520a91",
   "metadata": {},
   "outputs": [],
   "source": [
    "import sys\n",
    "import numpy as np\n",
    "import tensorflow as tf\n",
    "from tensorflow.keras.layers import Input, Dense, Reshape, Flatten, Dropout, BatchNormalization, LeakyReLU\n",
    "from tensorflow.keras.models import Sequential, Model\n",
    "from tensorflow.keras.optimizers import Adam\n",
    "from tensorflow.keras.optimizers.schedules import ExponentialDecay\n",
    "from tensorflow.keras.utils import plot_model"
   ]
  },
  {
   "cell_type": "code",
   "execution_count": 2,
   "id": "b58b73ee",
   "metadata": {},
   "outputs": [],
   "source": [
    "class Discriminator:\n",
    "    def __init__(self, width = 28, height = 28, channels = 1, latent_size = 100, initial_lr = 0.0002):\n",
    "        self.CAPACITY = width*height*1\n",
    "        self.SHAPE = (width, height, channels)\n",
    "        self.OPTIMIZER = Adam(learning_rate = ExponentialDecay(\n",
    "                        initial_lr,\n",
    "                        decay_steps = 100000,\n",
    "                        decay_rate = 8e-9,\n",
    "                        staircase = True))\n",
    "        self.Discriminator = self.model()\n",
    "        self.Discriminator.compile(loss = 'binary_crossentropy', optimizer = self.OPTIMIZER, metrics = ['accuracy'])\n",
    "        \n",
    "    def model(self):\n",
    "        model = Sequential()\n",
    "        model.add(Flatten(input_shape = self.SHAPE))\n",
    "        model.add(Dense(self.CAPACITY, input_shape = self.SHAPE))\n",
    "        model.add(LeakyReLU(alpha = 0.2))\n",
    "        model.add(Dense(int(self.CAPACITY/2)))\n",
    "        model.add(LeakyReLU(alpha = 0.2))\n",
    "        model.add(Dense(1, activation = 'sigmoid'))\n",
    "        return model\n",
    "    \n",
    "    # 모델 요약\n",
    "    def summary(self):\n",
    "        return self.Discriminator.summary()\n",
    "    \n",
    "    # 모델 그림 추출\n",
    "    def save_model(self):\n",
    "        plot_model(self.Discriminator, \n",
    "                   to_file = '/Users/gimhyeongeun/Desktop/세미나/Machine Learning/GAN/Discriminator_Model.png')"
   ]
  }
 ],
 "metadata": {
  "kernelspec": {
   "display_name": "Python 3",
   "language": "python",
   "name": "python3"
  },
  "language_info": {
   "codemirror_mode": {
    "name": "ipython",
    "version": 3
   },
   "file_extension": ".py",
   "mimetype": "text/x-python",
   "name": "python",
   "nbconvert_exporter": "python",
   "pygments_lexer": "ipython3",
   "version": "3.8.8"
  }
 },
 "nbformat": 4,
 "nbformat_minor": 5
}
