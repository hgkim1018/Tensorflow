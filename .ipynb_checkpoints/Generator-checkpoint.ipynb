{
 "cells": [
  {
   "cell_type": "code",
   "execution_count": 3,
   "id": "a93bf219",
   "metadata": {},
   "outputs": [],
   "source": [
    "import sys\n",
    "import numpy as np\n",
    "import tensorflow as tf\n",
    "from tensorflow.keras.layers import Input, Dense, Reshape, Flatten, Dropout, BatchNormalization, LeakyReLU\n",
    "from tensorflow.keras.models import Sequential, Model\n",
    "from tensorflow.keras.optimizers import Adam\n",
    "from tensorflow.keras.optimizers.schedules import ExponentialDecay\n",
    "from tensorflow.keras.utils import plot_model"
   ]
  },
  {
   "cell_type": "code",
   "execution_count": 5,
   "id": "59ef4c9a",
   "metadata": {},
   "outputs": [],
   "source": [
    "class Generator:\n",
    "    def __init__(self, width = 28, height = 28, channels = 1, latent_size = 100, initial_lr = 0.0002):\n",
    "        self.W = width\n",
    "        self.H = height\n",
    "        self.C = channels\n",
    "        self.OPTIMIZER = Adam(learning_rate = ExponentialDecay(\n",
    "                        initial_lr,\n",
    "                        decay_steps = 100000,\n",
    "                        decay_rate = 8e-9,\n",
    "                        staircase = True))\n",
    "        \n",
    "        \n",
    "        self.LATENT_SPACE_SIZE = latent_size\n",
    "        self.latent_space = np.random.normal(0,1, size = self.LATENT_SPACE_SIZE) # 표준정규분포\n",
    "        \n",
    "        self.Generator = self.model()\n",
    "        self.Generator.compile(loss = 'binary_crossentropy', optimizer = self.OPTIMIZER)\n",
    "    \n",
    "    def model(self, block_starting_size = 128, num_blocks = 4):\n",
    "        model = Sequential()\n",
    "        \n",
    "        block_size = block_starting_size\n",
    "        model.add(Dense(block_size, input_shape = (self.LATENT_SPACE_SIZE,)))\n",
    "        model.add(LeakyReLU(alpha = 0.2))\n",
    "        model.add(BatchNormalization(momentum = 0.8))\n",
    "        \n",
    "        \n",
    "        for i in range(num_blocks - 1):\n",
    "            block_size = block_size * 2\n",
    "            model.add(Dense(block_size))\n",
    "            model.add(LeakyReLU(alpha = 0.2))\n",
    "            model.add(BatchNormalization(momentum = 0.8))\n",
    "            \n",
    "            \n",
    "        model.add(Dense(self.W * self.H * self.C, activation = 'tanh')) # 벡터 형태\n",
    "        model.add(Reshape((self.W, self.H, self.C))) # 벡터 형태를 이미지 형태로 변환\n",
    "        return model\n",
    "    \n",
    "    # 모델 요약\n",
    "    def summary(self):\n",
    "        return self.Generator.summary()\n",
    "    \n",
    "    # 모델 그림 추출\n",
    "    def save_model(self):\n",
    "        plot_model(self.Generator, \n",
    "                   to_file = '/Users/gimhyeongeun/Desktop/세미나/Machine Learning/GAN/Generator_Model.png')"
   ]
  }
 ],
 "metadata": {
  "kernelspec": {
   "display_name": "Python 3",
   "language": "python",
   "name": "python3"
  },
  "language_info": {
   "codemirror_mode": {
    "name": "ipython",
    "version": 3
   },
   "file_extension": ".py",
   "mimetype": "text/x-python",
   "name": "python",
   "nbconvert_exporter": "python",
   "pygments_lexer": "ipython3",
   "version": "3.8.8"
  }
 },
 "nbformat": 4,
 "nbformat_minor": 5
}
